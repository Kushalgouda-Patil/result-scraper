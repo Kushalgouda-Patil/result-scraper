{
 "cells": [
  {
   "cell_type": "code",
   "execution_count": 136,
   "id": "d043da1c",
   "metadata": {},
   "outputs": [],
   "source": [
    "import pandas as pd\n",
    "import csv\n",
    "import time\n",
    "from bs4 import BeautifulSoup\n",
    "import requests\n",
    "from selenium import webdriver\n",
    "from webdriver_manager.chrome import ChromeDriverManager\n",
    "from selenium.webdriver.common.by import By"
   ]
  },
  {
   "cell_type": "code",
   "execution_count": 137,
   "id": "dd89a718",
   "metadata": {},
   "outputs": [],
   "source": [
    "driver = webdriver.Chrome(ChromeDriverManager().install())\n",
    "url=\"https://eresults.kletech.ac.in/\"\n",
    "usn_list=[f\"01FE21BCI{i:03}\" for i in range(1,63)]"
   ]
  },
  {
   "cell_type": "code",
   "execution_count": 138,
   "id": "599cd30c",
   "metadata": {},
   "outputs": [
    {
     "name": "stdout",
     "output_type": "stream",
     "text": [
      "Enter captcha\n",
      "KJLBJ\n"
     ]
    }
   ],
   "source": [
    "driver.get(url)\n",
    "captcha=input(\"Enter captcha\\n\")"
   ]
  },
  {
   "cell_type": "code",
   "execution_count": 139,
   "id": "9d7edc28",
   "metadata": {},
   "outputs": [],
   "source": [
    "with open('results.csv','a',newline='') as file:\n",
    "    for usn in usn_list:\n",
    "        driver.find_element_by_id(id_=\"usn\").clear()\n",
    "        driver.find_element_by_id(id_=\"osolCatchaTxt0\").clear()\n",
    "        driver.find_element_by_id(id_=\"usn\").send_keys(usn)\n",
    "        driver.find_element_by_id(id_=\"osolCatchaTxt0\").send_keys(captcha)\n",
    "        driver.find_element_by_xpath(\"//button[@class='myButton'][@type='submit'][@formaction='index.php?option=com_examresult&task=getResult']\").click()\n",
    "        time.sleep(2)\n",
    "        soup=BeautifulSoup(driver.page_source)\n",
    "        try:\n",
    "            name=soup.find_all('h3')[0].text\n",
    "            sgpa=soup.find_all('p')[3].text\n",
    "            cgpa=soup.find_all('p')[4].text\n",
    "            writer=csv.writer(file)\n",
    "            writer.writerow([name,sgpa,cgpa])\n",
    "        except:\n",
    "            pass\n",
    "        driver.back()\n",
    "        time.sleep(2)\n",
    "driver.close()\n",
    "driver.quit()"
   ]
  }
 ],
 "metadata": {
  "kernelspec": {
   "display_name": "Python 3 (ipykernel)",
   "language": "python",
   "name": "python3"
  },
  "language_info": {
   "codemirror_mode": {
    "name": "ipython",
    "version": 3
   },
   "file_extension": ".py",
   "mimetype": "text/x-python",
   "name": "python",
   "nbconvert_exporter": "python",
   "pygments_lexer": "ipython3",
   "version": "3.10.9"
  }
 },
 "nbformat": 4,
 "nbformat_minor": 5
}
